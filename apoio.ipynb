{
 "cells": [
  {
   "cell_type": "code",
   "execution_count": null,
   "id": "0e06ee88",
   "metadata": {},
   "outputs": [],
   "source": [
    "import pandas as pd\n",
    "import matplotlib.pyplot as plt\n",
    "import matplotlib.ticker as mtick\n",
    "\n",
    "import seaborn as sns\n",
    "import numpy as np\n",
    "\n",
    "from sklearn.model_selection import StratifiedKFold, train_test_split\n",
    "from sklearn.tree import DecisionTreeClassifier, plot_tree\n",
    "from sklearn.metrics import accuracy_score, classification_report, confusion_matrix, precision_score, recall_score\n",
    "from sklearn.neighbors import KNeighborsClassifier\n",
    "from sklearn.ensemble import RandomForestClassifier\n",
    "from sklearn.naive_bayes import GaussianNB\n",
    "from sklearn.utils.class_weight import compute_class_weight\n",
    "\n",
    "from imblearn.under_sampling import RandomUnderSampler\n",
    "from collections import Counter"
   ]
  },
  {
   "cell_type": "code",
   "execution_count": null,
   "id": "0ad4e811",
   "metadata": {},
   "outputs": [],
   "source": [
    "# Dois arrays com números\n",
    "array_x = [0, 1, 2, 3, 4, 5, 6]\n",
    "array_y1 = [0.85, 0.88, 0.83, 0.87, 0.90, 0.91, 0.85]\n",
    "array_y2 = [0.78, 0.80, 0.82, 0.79, 0.81, 0.83, 0.86]\n",
    "\n",
    "# Criando o gráfico combinado\n",
    "plt.plot(array_x, array_y1, label=\"Gráfico 1\", color='blue')\n",
    "plt.plot(array_x, array_y2, label=\"Gráfico 2\", color='orange')\n",
    "\n",
    "# Adicionando título e rótulos aos eixos\n",
    "plt.title('Gráfico Combinado')\n",
    "plt.xlabel('Índice')\n",
    "plt.ylabel('Valor')\n",
    "\n",
    "# Adicionando a legenda para identificar as duas linhas\n",
    "plt.legend()\n",
    "\n",
    "# Exibindo o gráfico\n",
    "plt.show()\n"
   ]
  },
  {
   "cell_type": "code",
   "execution_count": null,
   "id": "97cc0aae",
   "metadata": {},
   "outputs": [],
   "source": [
    "# Dois arrays com números\n",
    "array_x = [0, 1, 2, 3, 4, 5, 6]\n",
    "array_y1 = [0.85, 0.88, 0.83, 0.87, 0.90, 0.91, 0.85]\n",
    "array_y2 = [0.78, 0.80, 0.82, 0.79, 0.81, 0.83, 0.86]\n",
    "\n",
    "# Criando os subplots (2 gráficos em uma única janela)\n",
    "fig, axs = plt.subplots(2, 1, figsize=(8, 6))  # 2 linhas, 1 coluna\n",
    "\n",
    "# Primeiro gráfico\n",
    "axs[0].plot(array_x, array_y1, label=\"Gráfico 1\")\n",
    "axs[0].set_title('Gráfico 1')\n",
    "axs[0].set_xlabel('Índice')\n",
    "axs[0].set_ylabel('Valor 1')\n",
    "axs[0].legend()\n",
    "\n",
    "# Segundo gráfico\n",
    "axs[1].plot(array_x, array_y2, label=\"Gráfico 2\", color='orange')\n",
    "axs[1].set_title('Gráfico 2')\n",
    "axs[1].set_xlabel('Índice')\n",
    "axs[1].set_ylabel('Valor 2')\n",
    "axs[1].legend()\n",
    "\n",
    "# Ajustando o espaçamento entre os gráficos\n",
    "plt.tight_layout()\n",
    "\n",
    "# Exibindo os gráficos\n",
    "plt.show()"
   ]
  }
 ],
 "metadata": {
  "language_info": {
   "name": "python"
  }
 },
 "nbformat": 4,
 "nbformat_minor": 5
}
